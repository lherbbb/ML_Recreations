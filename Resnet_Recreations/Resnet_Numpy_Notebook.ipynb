{
 "cells": [
  {
   "cell_type": "code",
   "id": "initial_id",
   "metadata": {
    "collapsed": true,
    "ExecuteTime": {
     "end_time": "2025-08-09T18:13:34.290308Z",
     "start_time": "2025-08-09T18:13:34.284257Z"
    }
   },
   "source": [
    "import numpy as np\n",
    "\n",
    "np.random.seed(0)\n",
    "img_rgb = np.random.randint(0, 256, size=(1, 3, 8, 8), dtype=np.uint8)\n",
    "\n",
    "print(\"Shape:\", img_rgb.shape)\n",
    "print(\"Red channel:\\n\", img_rgb[0, 0])\n",
    "print(\"Green channel:\\n\", img_rgb[0, 1])\n",
    "print(\"Blue channel:\\n\", img_rgb[0, 2])\n"
   ],
   "outputs": [
    {
     "name": "stdout",
     "output_type": "stream",
     "text": [
      "Shape: (1, 3, 8, 8)\n",
      "Red channel:\n",
      " [[172  10 127 140  47 170 196 151]\n",
      " [117 166  22 183 192 204  33 216]\n",
      " [ 67 179  78 154 251  82 162 219]\n",
      " [195 118 125 139 103 125 229 216]\n",
      " [  9 164 116 108 211 222 161 159]\n",
      " [ 21  81  89 165 242 214 102  98]\n",
      " [ 36 183   5 112  87  58  43  76]\n",
      " [ 70  60  75 228 216 189 132  14]]\n",
      "Green channel:\n",
      " [[ 88 154 178 246 140 205 204  69]\n",
      " [ 58  57  41  98 193  66  72 122]\n",
      " [230 125 174 202  39  74 234 207]\n",
      " [ 87 168 101 135 174 200 223 122]\n",
      " [ 88  94 107 145  81 139 141 100]\n",
      " [165 230 243 236  25  66   9 214]\n",
      " [ 77 107  47  18  72 152  95  86]\n",
      " [  9  27  78  22 148 151 238 165]]\n",
      "Blue channel:\n",
      " [[115   8  45   5 208  19  69  94]\n",
      " [243 146  38 213 197  30   8 245]\n",
      " [254  71  53 199  79   7 238  35]\n",
      " [175  29 185 222 192   9 190 222]\n",
      " [ 82 187 134 250  99  96  62 121]\n",
      " [216 167 149 204 177 124   8 205]\n",
      " [243 130  35 118  29   3  62 133]\n",
      " [147 194 208 199 147  12 203 173]]\n"
     ]
    }
   ],
   "execution_count": 4
  },
  {
   "metadata": {},
   "cell_type": "code",
   "outputs": [],
   "execution_count": null,
   "source": [
    "def im2col(self):\n",
    "    pass\n",
    "\n"
   ],
   "id": "5afa5c24eeffca8e"
  },
  {
   "metadata": {
    "ExecuteTime": {
     "end_time": "2025-08-10T01:32:53.774900Z",
     "start_time": "2025-08-10T01:32:53.768029Z"
    }
   },
   "cell_type": "code",
   "source": [
    "def conv2d_forward(x, weight, bias=None, stride=1, padding=0):\n",
    "    # x:       (N, Cin, H, W)    → batch of input images\n",
    "    # weight:  (Cout, Cin, kh, kw) → convolution filters\n",
    "    # bias:    (Cout,) or None    → optional bias term for each output channel\n",
    "    # stride:  int                → step size the kernel moves each time\n",
    "    # padding: int                → how many zeros to pad around input edges\n",
    "\n",
    "    # Unpack shapes\n",
    "    N, Cin, H, W = x.shape                # N=batch size, Cin=input channels, H/W=input height/width\n",
    "    Cout, Cin_w, kh, kw = weight.shape    # Cout=output channels, Cin_w=weight input channels\n",
    "    assert Cin == Cin_w, f\"Input channels ({Cin}) != filter channels ({Cin_w})\"\n",
    "\n",
    "    # Calculate output feature map dimensions (integer division)\n",
    "    Hout = (H + 2*padding - kh) // stride + 1\n",
    "    Wout = (W + 2*padding - kw) // stride + 1\n",
    "\n",
    "    # Sanity checks\n",
    "    assert Hout > 0 and Wout > 0, \"Output size <= 0 — check stride/padding/kernel.\"\n",
    "    if bias is not None:\n",
    "        assert bias.shape == (Cout,), f\"bias should be ({Cout},)\"\n",
    "\n",
    "    # Apply zero-padding to input if requested\n",
    "    # np.pad arguments: ((pad_before, pad_after), ...) for each dimension\n",
    "    # Here: batch axis (0,0), channel axis (0,0), height axis (padding,padding), width axis (padding,padding)\n",
    "    if padding > 0:\n",
    "        x_pad = np.pad(x, ((0,0), (0,0), (padding,padding), (padding,padding)), mode='constant')\n",
    "    else:\n",
    "        x_pad = x\n",
    "\n",
    "    # Allocate empty output array\n",
    "    y = np.zeros((N, Cout, Hout, Wout), dtype=x.dtype)\n",
    "\n",
    "    # Loop over each dimension to apply convolution\n",
    "    for n in range(N):            # For each image in batch\n",
    "        for co in range(Cout):    # For each filter (output channel)\n",
    "            for i in range(Hout): # For each output row\n",
    "                for j in range(Wout): # For each output column\n",
    "\n",
    "                    # Map output location (i,j) to top-left corner in input\n",
    "                    r = i * stride  # Row index in input where kernel starts\n",
    "                    c = j * stride  # Col index in input where kernel starts\n",
    "\n",
    "                    # Extract input patch the same size as the kernel\n",
    "                    # Shape: (Cin, kh, kw) — all input channels for this patch\n",
    "                    patch = x_pad[n, :, r:r+kh, c:c+kw]\n",
    "\n",
    "                    # Get the corresponding filter for this output channel\n",
    "                    filt = weight[co]  # Shape: (Cin, kh, kw)\n",
    "\n",
    "                    # Elementwise multiply patch and filter, then sum all values\n",
    "                    val = np.sum(patch * filt)\n",
    "\n",
    "                    # Add bias for this output channel if provided\n",
    "                    if bias is not None:\n",
    "                        val += bias[co]\n",
    "\n",
    "                    # Store result in output feature map\n",
    "                    y[n, co, i, j] = val\n",
    "\n",
    "    # Return the output tensor: (N, Cout, Hout, Wout)\n",
    "    return y\n"
   ],
   "id": "bda9398274705857",
   "outputs": [],
   "execution_count": 3
  },
  {
   "metadata": {
    "ExecuteTime": {
     "end_time": "2025-08-10T01:43:06.214315Z",
     "start_time": "2025-08-10T01:43:06.211288Z"
    }
   },
   "cell_type": "code",
   "source": [
    "def ReLU(self, x):\n",
    "    return np.maximum(0, x)"
   ],
   "id": "b0e304efa2f8af97",
   "outputs": [],
   "execution_count": 12
  },
  {
   "metadata": {},
   "cell_type": "code",
   "outputs": [],
   "execution_count": null,
   "source": [
    "def BatchNorm2D(self, x):\n",
    "\n",
    "    N, Cin, H, W = x.shape                # N=batch size, Cin=input channels, H/W=input height/width\n",
    "\n",
    "    for channel in range(Cin):\n",
    "        channel_data = x[:, channel, :, :]  # shape: (N, H, W)\n",
    "        mean = channel_data.mean()\n",
    "        std = channel_data.std()\n",
    "        # normalize that channel across all N images\n",
    "        channel_data -= mean\n",
    "        channel_data /= std\n",
    "\n"
   ],
   "id": "fdd4089b4f5eec88"
  },
  {
   "metadata": {},
   "cell_type": "code",
   "outputs": [],
   "execution_count": null,
   "source": "",
   "id": "3b7ec3f883d4fbdd"
  }
 ],
 "metadata": {
  "kernelspec": {
   "display_name": "Python 3",
   "language": "python",
   "name": "python3"
  },
  "language_info": {
   "codemirror_mode": {
    "name": "ipython",
    "version": 2
   },
   "file_extension": ".py",
   "mimetype": "text/x-python",
   "name": "python",
   "nbconvert_exporter": "python",
   "pygments_lexer": "ipython2",
   "version": "2.7.6"
  }
 },
 "nbformat": 4,
 "nbformat_minor": 5
}
